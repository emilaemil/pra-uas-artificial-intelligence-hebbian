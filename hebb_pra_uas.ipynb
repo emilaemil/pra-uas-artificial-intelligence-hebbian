{
  "nbformat": 4,
  "nbformat_minor": 0,
  "metadata": {
    "colab": {
      "provenance": [],
      "authorship_tag": "ABX9TyMso8Zz0VEC4WLwx05avhkp",
      "include_colab_link": true
    },
    "kernelspec": {
      "name": "python3",
      "display_name": "Python 3"
    },
    "language_info": {
      "name": "python"
    }
  },
  "cells": [
    {
      "cell_type": "markdown",
      "metadata": {
        "id": "view-in-github",
        "colab_type": "text"
      },
      "source": [
        "<a href=\"https://colab.research.google.com/github/emilaemil/pra-uas-artificial-intelligence-hebbian/blob/main/hebb_pra_uas.ipynb\" target=\"_parent\"><img src=\"https://colab.research.google.com/assets/colab-badge.svg\" alt=\"Open In Colab\"/></a>"
      ]
    },
    {
      "cell_type": "code",
      "execution_count": null,
      "metadata": {
        "id": "NnqJulNxw0-E"
      },
      "outputs": [],
      "source": [
        "b = [1,-1,-1,-1,1,1,-1,-1,-1,1,1,1,1,1,1,1,-1,-1,-1,1,1,1,1,1,1]\n",
        "r = [1,1,1,1,1,-1,-1,-1,-1,1,1,1,1,1,1,1,-1,-1,-1,-1,1,1,1,1,1]\n",
        "target_B = 1\n",
        "target_R = -1\n",
        "bias = 0\n",
        "\n",
        "deltaW_B = []\n",
        "deltaW_R = []\n",
        "\n",
        "wB_baru = []\n",
        "wR_baru = []\n",
        "w_awal = 0\n",
        "w_akhir = []\n",
        "\n",
        "net_B = 0\n",
        "net_R = 0\n",
        "f_B = 0\n",
        "f_R = 0"
      ]
    },
    {
      "cell_type": "code",
      "source": [
        "for i in range(0,25):\n",
        "    deltaW_B.append(b[i]*target_B)\n",
        "    wB_baru.append(w_awal+b[i]*target_B)\n",
        "\n",
        "    deltaW_R.append(r[i]*target_R)\n",
        "    wR_baru.append(w_awal+r[i]*target_R)\n",
        "\n",
        "    result = wB_baru[i]+wR_baru[i]\n",
        "    w_akhir.append(result)"
      ],
      "metadata": {
        "id": "iatflPMUxzYo"
      },
      "execution_count": null,
      "outputs": []
    },
    {
      "cell_type": "code",
      "source": [
        "for i in range(0,25):\n",
        "   sum1=b[i]*w_akhir[i]+bias\n",
        "   net_B+=sum1\n",
        "   sum2=r[i]*w_akhir[i]+bias\n",
        "   net_R+=sum2\n",
        "\n",
        "if net_B>=0:\n",
        "        f_B=1\n",
        "else:\n",
        "    f_B=-1\n",
        "\n",
        "if net_R>=0:\n",
        "        f_R=1\n",
        "else:\n",
        "        f_R=-1"
      ],
      "metadata": {
        "id": "Jtsr_ZPEzYWN"
      },
      "execution_count": null,
      "outputs": []
    },
    {
      "cell_type": "code",
      "source": [
        "print('Data Pola B = ', b)\n",
        "print('Data Pola R = ', r)\n",
        "print('Nilai Bias = ',bias)\n",
        "print('Nilai Target B = ', target_B)\n",
        "print('Nilai Target R = ', target_R)\n",
        "print('\\nData dWB = ',deltaW_B)\n",
        "print('Data dWR = ',deltaW_R)\n",
        "print('\\nData WB = ',wB_baru)\n",
        "print('Data WR = ',w_akhir)\n",
        "print('\\nNilai Net B = ', net_B)\n",
        "print('Nilai Net R = ', net_R)\n",
        "print('F(net) B = ', f_B)\n",
        "print('F(net) R = ', f_R)"
      ],
      "metadata": {
        "colab": {
          "base_uri": "https://localhost:8080/"
        },
        "id": "N2LI4qcxz1sm",
        "outputId": "a305e75f-5563-41ae-e76c-d9be7a42ac8e"
      },
      "execution_count": null,
      "outputs": [
        {
          "output_type": "stream",
          "name": "stdout",
          "text": [
            "Data Pola B =  [1, -1, -1, -1, 1, 1, -1, -1, -1, 1, 1, 1, 1, 1, 1, 1, -1, -1, -1, 1, 1, 1, 1, 1, 1]\n",
            "Data Pola R =  [1, 1, 1, 1, 1, -1, -1, -1, -1, 1, 1, 1, 1, 1, 1, 1, -1, -1, -1, -1, 1, 1, 1, 1, 1]\n",
            "Nilai Bias =  0\n",
            "Nilai Target B =  1\n",
            "Nilai Target R =  -1\n",
            "\n",
            "Data dWB =  [1, -1, -1, -1, 1, 1, -1, -1, -1, 1, 1, 1, 1, 1, 1, 1, -1, -1, -1, 1, 1, 1, 1, 1, 1]\n",
            "Data dWR =  [-1, -1, -1, -1, -1, 1, 1, 1, 1, -1, -1, -1, -1, -1, -1, -1, 1, 1, 1, 1, -1, -1, -1, -1, -1]\n",
            "\n",
            "Data WB =  [1, -1, -1, -1, 1, 1, -1, -1, -1, 1, 1, 1, 1, 1, 1, 1, -1, -1, -1, 1, 1, 1, 1, 1, 1]\n",
            "Data WR =  [0, -2, -2, -2, 0, 2, 0, 0, 0, 0, 0, 0, 0, 0, 0, 0, 0, 0, 0, 2, 0, 0, 0, 0, 0]\n",
            "\n",
            "Nilai Net B =  10\n",
            "Nilai Net R =  -10\n",
            "F(net) B =  1\n",
            "F(net) R =  -1\n"
          ]
        }
      ]
    },
    {
      "cell_type": "code",
      "source": [
        "if target_B==f_B and target_R==f_R :\n",
        "    print('+---------------------------------------+')\n",
        "    print('| Jaringan Dikenali                     |')\n",
        "else :\n",
        "    print('+---------------------------------------+')\n",
        "    print('| Jaringan Tidak Dikenali               |')\n",
        "print('+---------------------------------------+')"
      ],
      "metadata": {
        "colab": {
          "base_uri": "https://localhost:8080/"
        },
        "id": "SSPPg4Nc0YAa",
        "outputId": "6257ec74-4cfc-49bf-d0be-5b4b7afd03af"
      },
      "execution_count": null,
      "outputs": [
        {
          "output_type": "stream",
          "name": "stdout",
          "text": [
            "+---------------------------------------+\n",
            "| Jaringan Dikenali                     |\n",
            "+---------------------------------------+\n"
          ]
        }
      ]
    }
  ]
}